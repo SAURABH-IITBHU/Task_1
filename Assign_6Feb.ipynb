{
 "cells": [
  {
   "cell_type": "markdown",
   "id": "395f9368-c1d7-49a0-be65-bb81677ec0be",
   "metadata": {},
   "source": [
    "## Q1. Create a function which will take a list as an argument and return the product of all the numbers after creating a flat list.\n",
    "## Use the below-given list as an argument for your function.\n",
    "## list1 = [1,2,3,4, [44,55,66, True], False, (34,56,78,89,34), {1,2,3,3,2,1}, {1:34, \"key2\": [55, 67, 78, 89], 4: (45,22, 61, 34)}, [56, 'data science'], 'Machine Learning']\n",
    "## Note: you must extract numeric keys and values of the dictionary also."
   ]
  },
  {
   "cell_type": "code",
   "execution_count": 16,
   "id": "10e101d7-38a9-4517-96e2-3d2da6836eec",
   "metadata": {},
   "outputs": [
    {
     "name": "stdout",
     "output_type": "stream",
     "text": [
      "All numbers inside list1 are [1, 2, 3, 4, 44, 55, 66, 34, 56, 78, 89, 34, 1, 2, 3, 1, 4, 55, 67, 78, 89, 45, 22, 61, 34, 56]\n",
      "And their product = 121609171734914278789230624768000\n"
     ]
    }
   ],
   "source": [
    "def product(lst):\n",
    "    l = []\n",
    "    for i in lst:\n",
    "        if type(i) == int:\n",
    "            l.append(i)\n",
    "            \n",
    "        \n",
    "        elif type(i) == list or type(i) == tuple or type(i) == set:\n",
    "            for j in i:\n",
    "                if type(j) == int:\n",
    "                    l.append(j)\n",
    "        \n",
    "        elif type(i) == dict:\n",
    "            for j in i.keys():\n",
    "                if type(j) == int:\n",
    "                    l.append(j)\n",
    "            \n",
    "            for  j in i.values():\n",
    "                if type(j) == list or type(j) == tuple or type(j) == set:\n",
    "                    for k in j:\n",
    "                        l.append(k)\n",
    "        else:\n",
    "            pass\n",
    "    \n",
    "    print(f'All numbers inside list1 are {l}\\nAnd their product =', end=\" \")\n",
    "    \n",
    "    from functools import reduce\n",
    "    return reduce(lambda x, y : x*y, l)\n",
    "\n",
    "list1 = [1,2,3,4, [44,55,66, True], False, (34,56,78,89,34), {1,2,3,3,2,1}, {1:34, \"key2\": [55, 67, 78, 89], 4: (45,\n",
    "22, 61, 34)}, [56, 'data science'], 'Machine Learning']\n",
    "\n",
    "\n",
    "print(product(list1))"
   ]
  },
  {
   "cell_type": "code",
   "execution_count": null,
   "id": "d60a7fd6-a9e9-443a-8fab-d34f5d5e027e",
   "metadata": {},
   "outputs": [],
   "source": []
  },
  {
   "cell_type": "markdown",
   "id": "20e4e9d0-9483-456b-9b38-d4d6212356f8",
   "metadata": {},
   "source": [
    "## Q2. Write a python program for encrypting a message sent to you by your friend. The logic of encryption should be such that, for a the output should be z. For b, the output should be y. For c, the output should be x respectively. Also, the whitespace should be replaced with a dollar sign. Keep the punctuation marks unchanged.\n",
    "## Input Sentence: I want to become a Data Scientist.\n",
    "## Encrypt the above input sentence using the program you just created.\n",
    "## Note: Convert the given input sentence into lowercase before encrypting. The final output should be lowercase."
   ]
  },
  {
   "cell_type": "code",
   "execution_count": 17,
   "id": "c29ea322-d028-427c-ac07-52d2d4cdc7a2",
   "metadata": {},
   "outputs": [
    {
     "name": "stdin",
     "output_type": "stream",
     "text": [
      "Enter message:-  I want to become a Data Scientist.\n"
     ]
    },
    {
     "name": "stdout",
     "output_type": "stream",
     "text": [
      "i$wznt$to$yexome$z$dztz$sxientist.\n"
     ]
    }
   ],
   "source": [
    "msg = input('Enter message:- ')\n",
    "\n",
    "encrypted_msg = msg.lower().replace('a','z').replace('b','y').replace('c','x').replace(' ','$')\n",
    "print(encrypted_msg)"
   ]
  }
 ],
 "metadata": {
  "kernelspec": {
   "display_name": "Python 3 (ipykernel)",
   "language": "python",
   "name": "python3"
  },
  "language_info": {
   "codemirror_mode": {
    "name": "ipython",
    "version": 3
   },
   "file_extension": ".py",
   "mimetype": "text/x-python",
   "name": "python",
   "nbconvert_exporter": "python",
   "pygments_lexer": "ipython3",
   "version": "3.10.8"
  }
 },
 "nbformat": 4,
 "nbformat_minor": 5
}
